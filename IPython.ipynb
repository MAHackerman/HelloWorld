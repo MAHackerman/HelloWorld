{
 "cells": [
  {
   "cell_type": "markdown",
   "id": "cb547cc2",
   "metadata": {},
   "source": [
    "# O'Reilly Python for Data Analysis\n"
   ]
  },
  {
   "cell_type": "markdown",
   "id": "ec427935",
   "metadata": {},
   "source": [
    "## 2.2 IPython basics \n",
    "### Lauch python / Ipython / Jupyter notebook in Terminal\n",
    "The standard interactive Python interpreter can be launched by \n",
    "\n",
    "$ python\n",
    "\n",
    "\">>>\" <- This is the prompt where you'll type code expressions\n",
    "and iPython (i=interactive) by\n",
    "\n",
    "$ ipython\n",
    "\n",
    "\"In [1]\" <- This is the prompt where you'll type code expressions\n",
    "\n",
    "Jupyter notebook can be launched by \n",
    "\n",
    "$ jupyter notebook\n",
    "\n",
    "You can run a directory by adding the file name (e.g. <i>helloworld.py</i> after the $ python. The directory must be in your current working terminal directory\n",
    "\n",
    "$ python helloworld.py\n",
    "\n",
    "\n",
    "Using IPython you use \n",
    "\n",
    "%run to execute a code\n",
    "\n",
    "%run helloworld.py\n",
    "\n",
    "Use \"print\" to make the output more readable.\n"
   ]
  },
  {
   "cell_type": "markdown",
   "id": "f3a16d73",
   "metadata": {},
   "source": [
    "## Use git/github for version control\n",
    "\n",
    "Get your git repository on your local device. Choose your folder and open terminal. \n",
    "Use \"ls\" to list your files in your directory:\n",
    "\n",
    "$ ls\n",
    "\n",
    "clone your repository\n",
    "\n",
    "$ git clone \"HTTPS\"\n",
    "\n",
    "move your notebook to the git folder by\n",
    "\n",
    "$ mv your_notebook.ipynb git_folder\n",
    "\n",
    "change directory? Warum auch immer?\n",
    "\n",
    "$ cd git_folder/\n",
    "\n",
    "check git status to see your notebook is now within your folder\n",
    "\n",
    "$ git status\n",
    "\n",
    "add the notebook to github repository\n",
    "\n",
    "$ git add your_notebook.ipynb\n",
    "\n",
    "commit and make discription using -m \"\"\n",
    "\n",
    "$ git commit -m \"discription\"\n",
    "\n",
    "then push to repository\n",
    "\n",
    "$ git push \n",
    "\n",
    "\n",
    "\n",
    "\n",
    "\n"
   ]
  },
  {
   "cell_type": "code",
   "execution_count": null,
   "id": "4952a3c7",
   "metadata": {},
   "outputs": [],
   "source": []
  }
 ],
 "metadata": {
  "kernelspec": {
   "display_name": "Python 3",
   "language": "python",
   "name": "python3"
  },
  "language_info": {
   "codemirror_mode": {
    "name": "ipython",
    "version": 3
   },
   "file_extension": ".py",
   "mimetype": "text/x-python",
   "name": "python",
   "nbconvert_exporter": "python",
   "pygments_lexer": "ipython3",
   "version": "3.8.8"
  }
 },
 "nbformat": 4,
 "nbformat_minor": 5
}
